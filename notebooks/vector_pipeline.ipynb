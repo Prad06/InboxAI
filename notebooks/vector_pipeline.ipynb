{
 "cells": [
  {
   "cell_type": "code",
   "execution_count": 26,
   "metadata": {},
   "outputs": [],
   "source": [
    "import pandas as pd\n",
    "import pyarrow.parquet as pq\n",
    "from google.cloud import storage\n",
    "import glob\n",
    "import os\n",
    "import gcsfs"
   ]
  },
  {
   "cell_type": "code",
   "execution_count": 27,
   "metadata": {},
   "outputs": [],
   "source": [
    "# GCP Authentication Setup\n",
    "def setup_gcp_auth(credentials_path=None):\n",
    "    \"\"\"\n",
    "    Set up GCP authentication\n",
    "    \n",
    "    Args:\n",
    "        credentials_path: Optional path to service account JSON key file\n",
    "    \"\"\"\n",
    "    if credentials_path:\n",
    "        # Explicitly use service account credentials by specifying the key file\n",
    "        os.environ['GOOGLE_APPLICATION_CREDENTIALS'] = credentials_path\n",
    "        print(f\"Using credentials from: {credentials_path}\")\n",
    "    else:\n",
    "        # Check if credentials are already set\n",
    "        if 'GOOGLE_APPLICATION_CREDENTIALS' in os.environ:\n",
    "            print(f\"Using credentials from environment variable\")\n",
    "        else:\n",
    "            print(\"No credentials specified. Using default authentication\")\n",
    "            # This will use Application Default Credentials (ADC) if available\n",
    "            # https://cloud.google.com/docs/authentication/application-default-credentials\n",
    "    \n",
    "    # Test authentication by listing buckets\n",
    "    try:\n",
    "        storage_client = storage.Client()\n",
    "        buckets = list(storage_client.list_buckets(max_results=5))\n",
    "        print(f\"Authentication successful. Found {len(buckets)} buckets.\")\n",
    "        return True\n",
    "    except Exception as e:\n",
    "        print(f\"Authentication failed: {e}\")\n",
    "        return False"
   ]
  },
  {
   "cell_type": "code",
   "execution_count": 28,
   "metadata": {},
   "outputs": [],
   "source": [
    "# Method 1: Using pandas with gcsfs\n",
    "def read_parquet_files_with_pandas(bucket_name, prefix):\n",
    "    \"\"\"\n",
    "    Read multiple Parquet files from GCP using pandas and gcsfs\n",
    "    \"\"\"\n",
    "    fs = gcsfs.GCSFileSystem()\n",
    "        \n",
    "    # List all parquet files in the path\n",
    "    path_pattern = f\"gs://{bucket_name}/{prefix}/*.parquet\"\n",
    "    file_list = fs.glob(path_pattern)\n",
    "        \n",
    "    if not file_list:\n",
    "        print(f\"No files found matching pattern: {path_pattern}\")\n",
    "        return pd.DataFrame()\n",
    "        \n",
    "    print(f\"Found {len(file_list)} files matching pattern\")\n",
    "        \n",
    "    # Read all the parquet files\n",
    "    df = pd.concat([pd.read_parquet(file, filesystem=fs) for file in file_list])\n",
    "    return df"
   ]
  },
  {
   "cell_type": "code",
   "execution_count": 30,
   "metadata": {},
   "outputs": [
    {
     "name": "stdout",
     "output_type": "stream",
     "text": [
      "Using credentials from: google_sa.json\n",
      "Authentication successful. Found 1 buckets.\n",
      "Found 4 files matching pattern\n",
      "         message_id                                         from_email  \\\n",
      "0  1954dbd35c0e6cd7           BMS Talent Acquisition <noreply@bms.com>   \n",
      "1  1954db9ec067665f  \"Dunkin' Rewards\" <dunkinrewards@emailinfo.dun...   \n",
      "2  1954da04c3828c92              redBus <greetings@travel.e-redbus.in>   \n",
      "3  1954d99646394c24             Peacock <no-reply@email.peacocktv.com>   \n",
      "4  1954d78743152da6                          Chase <Chase@e.chase.com>   \n",
      "\n",
      "                       to    cc   bcc  \\\n",
      "0    [pc612001@gmail.com]  None  None   \n",
      "1  [<pc612001@gmail.com>]  None  None   \n",
      "2    [pc612001@gmail.com]  None  None   \n",
      "3    [pc612001@gmail.com]  None  None   \n",
      "4    [pc612001@gmail.com]  None  None   \n",
      "\n",
      "                                             subject  \\\n",
      "0   Spotlighting our People, Culture, and Innovation   \n",
      "1                            Taste the hype for $3 💋   \n",
      "2                  Pradnyesh, Holi season is here! 😍   \n",
      "3                      Weekend plans? I’ve got ‘em 🍿   \n",
      "4  Act now, Pradnyesh: Take advantage of our exte...   \n",
      "\n",
      "                        date  \\\n",
      "0  2025-02-28T18:06:40+00:00   \n",
      "1  2025-02-28T17:47:43+00:00   \n",
      "2  2025-02-28T17:35:05+00:00   \n",
      "3  2025-02-28T17:27:29+00:00   \n",
      "4  2025-02-28T16:51:31+00:00   \n",
      "\n",
      "                                             content  \\\n",
      "0  PCFET0NUWVBFIEhUTUwgUFVCTElDICItLy9XM0MvL0RURC...   \n",
      "1  IA0KIA0KDQoNCiANCiANCg0KDQoNCg0KDQoNCg0KVGFzdG...   \n",
      "2  UmVkYnVzIFdlbGNvbWUNCg0KIA0KDQoNCg0KIA0KDQogDQ...   \n",
      "3  SGl0IFBsYXkuIEdldCBDb3p5LiBUaGFuayBtZSBsYXRlci...   \n",
      "4  DQo8IURPQ1RZUEUgaHRtbCBQVUJMSUMgIi0vL1czQy8vRF...   \n",
      "\n",
      "                                          plain_text  \\\n",
      "0                                               None   \n",
      "1  IA0KIA0KDQoNCiANCiANCg0KDQoNCg0KDQoNCg0KVGFzdG...   \n",
      "2  UmVkYnVzIFdlbGNvbWUNCg0KIA0KDQoNCg0KIA0KDQogDQ...   \n",
      "3  SGl0IFBsYXkuIEdldCBDb3p5LiBUaGFuayBtZSBsYXRlci...   \n",
      "4                                               None   \n",
      "\n",
      "                                                html attachments  \\\n",
      "0  PCFET0NUWVBFIEhUTUwgUFVCTElDICItLy9XM0MvL0RURC...          []   \n",
      "1  IDwhRE9DVFlQRSBodG1sIFBVQkxJQyAiLS8vVzNDLy9EVE...          []   \n",
      "2  PCFET0NUWVBFIGh0bWwgUFVCTElDICItLy9XM0MvL0RURC...          []   \n",
      "3  PCFET0NUWVBFIGh0bWwgUFVCTElDICItLy9XM0MvL0RURC...          []   \n",
      "4  DQo8IURPQ1RZUEUgaHRtbCBQVUJMSUMgIi0vL1czQy8vRF...          []   \n",
      "\n",
      "          thread_id                                           labels  \n",
      "0  1954dbd35c0e6cd7  [CATEGORY_PROMOTIONS, UNREAD, IMPORTANT, INBOX]  \n",
      "1  1954db9ec067665f             [CATEGORY_PROMOTIONS, UNREAD, INBOX]  \n",
      "2  1954da04c3828c92             [CATEGORY_PROMOTIONS, UNREAD, INBOX]  \n",
      "3  1954d99646394c24             [CATEGORY_PROMOTIONS, UNREAD, INBOX]  \n",
      "4  1954d78743152da6             [IMPORTANT, CATEGORY_UPDATES, INBOX]  \n"
     ]
    }
   ],
   "source": [
    "credentials_path = \"google_sa.json\"  # Optional\n",
    "setup_gcp_auth(credentials_path)\n",
    "\n",
    "# Define bucket and path\n",
    "bucket_name = \"gcs-email-landing-inbox-ai\"\n",
    "prefix = \"user_id/cron/emailid/emails\"\n",
    "\n",
    "# Read Parquet files using any of the methods\n",
    "df = read_parquet_files_with_pandas(bucket_name, prefix)\n",
    "# or\n",
    "# df = read_parquet_files_by_downloading(bucket_name, prefix)\n",
    "# or\n",
    "# df = read_parquet_files_with_pyarrow(bucket_name, prefix)\n",
    "\n",
    "# Display the first few rows\n",
    "print(df.head())"
   ]
  },
  {
   "cell_type": "code",
   "execution_count": null,
   "metadata": {},
   "outputs": [],
   "source": [
    "def upload_parquet_to_gcs(local_parquet_path, destination_blob_name):\n",
    "    \"\"\"\n",
    "    Upload a Parquet file to GCS bucket\n",
    "    \n",
    "    Args:\n",
    "        local_parquet_path: Path to local Parquet file\n",
    "        destination_blob_name: Destination path in GCS bucket\n",
    "    \"\"\"\n",
    "    try:\n",
    "        storage_client = storage.Client()\n",
    "        bucket = storage_client.bucket(\"gcs-email-landing-inbox-ai\")\n",
    "        blob = bucket.blob(destination_blob_name)\n",
    "        blob.upload_from_filename(local_parquet_path)\n",
    "        print(f\"File {local_parquet_path} uploaded to gs://{bucket_name}/{destination_blob_name}\")\n",
    "    except Exception as e:\n",
    "        print(f\"Error uploading file: {e}\")\n",
    "\n",
    "# Example usage:\n",
    "# Assuming you have a local Parquet file\n",
    "# upload_parquet_to_gcs(\"emails_batch_00004.parquet\", \"user_id/cron/emailid/emails/emails_batch_00004.parquet\")"
   ]
  },
  {
   "cell_type": "code",
   "execution_count": null,
   "metadata": {},
   "outputs": [],
   "source": [
    "import chromadb\n",
    "# Example setup of the client to connect to your chroma server\n",
    "client = chromadb.HttpClient(host='localhost', port=8000)"
   ]
  },
  {
   "cell_type": "code",
   "execution_count": null,
   "metadata": {},
   "outputs": [
    {
     "name": "stdout",
     "output_type": "stream",
     "text": [
      "<class 'pandas.core.frame.DataFrame'>\n",
      "Index: 162 entries, 0 to 11\n",
      "Data columns (total 13 columns):\n",
      " #   Column       Non-Null Count  Dtype \n",
      "---  ------       --------------  ----- \n",
      " 0   message_id   162 non-null    object\n",
      " 1   from_email   162 non-null    object\n",
      " 2   to           162 non-null    object\n",
      " 3   cc           3 non-null      object\n",
      " 4   bcc          0 non-null      object\n",
      " 5   subject      162 non-null    object\n",
      " 6   date         162 non-null    object\n",
      " 7   content      162 non-null    object\n",
      " 8   plain_text   86 non-null     object\n",
      " 9   html         161 non-null    object\n",
      " 10  attachments  162 non-null    object\n",
      " 11  thread_id    162 non-null    object\n",
      " 12  labels       162 non-null    object\n",
      "dtypes: object(13)\n",
      "memory usage: 17.7+ KB\n"
     ]
    }
   ],
   "source": []
  },
  {
   "cell_type": "code",
   "execution_count": null,
   "metadata": {},
   "outputs": [
    {
     "name": "stdout",
     "output_type": "stream",
     "text": [
      "[{'from': 'BMS Talent Acquisition <noreply@bms.com>', 'date': '2025-02-28T18:06:40+00:00', 'labels': \"['CATEGORY_PROMOTIONS' 'UNREAD' 'IMPORTANT' 'INBOX']\"}, {'from': '\"Dunkin\\' Rewards\" <dunkinrewards@emailinfo.dunkinrewards.com>', 'date': '2025-02-28T17:47:43+00:00', 'labels': \"['CATEGORY_PROMOTIONS' 'UNREAD' 'INBOX']\"}, {'from': 'redBus <greetings@travel.e-redbus.in>', 'date': '2025-02-28T17:35:05+00:00', 'labels': \"['CATEGORY_PROMOTIONS' 'UNREAD' 'INBOX']\"}, {'from': 'Peacock <no-reply@email.peacocktv.com>', 'date': '2025-02-28T17:27:29+00:00', 'labels': \"['CATEGORY_PROMOTIONS' 'UNREAD' 'INBOX']\"}, {'from': 'Chase <Chase@e.chase.com>', 'date': '2025-02-28T16:51:31+00:00', 'labels': \"['IMPORTANT' 'CATEGORY_UPDATES' 'INBOX']\"}, {'from': 'Meetup <info@email.meetup.com>', 'date': '2025-02-28T15:46:15+00:00', 'labels': \"['IMPORTANT' 'CATEGORY_UPDATES' 'INBOX']\"}, {'from': '\"Yang (Meetup)\" <Boston-IT-and-Tech-Meetup-announce@email.meetup.com>', 'date': '2025-02-28T15:19:30+00:00', 'labels': \"['CATEGORY_PROMOTIONS' 'IMPORTANT' 'INBOX']\"}, {'from': 'AtCoder System Mail <noreply@atcoder.jp>', 'date': '2025-02-28T15:14:08+00:00', 'labels': \"['IMPORTANT' 'CATEGORY_UPDATES' 'INBOX']\"}, {'from': 'Siemens Talent Acquisition <talentacquisition.hr@siemens.com>', 'date': '2025-02-28T05:10:29+00:00', 'labels': \"['IMPORTANT' 'CATEGORY_UPDATES' 'INBOX']\"}, {'from': 'Siemens Talent Acquisition <talentacquisition.hr@siemens.com>', 'date': '2025-02-28T04:34:05+00:00', 'labels': \"['IMPORTANT' 'CATEGORY_UPDATES' 'INBOX']\"}, {'from': 'Siemens Talent Acquisition <talentacquisition.hr@siemens.com>', 'date': '2025-02-28T03:57:21+00:00', 'labels': \"['IMPORTANT' 'CATEGORY_UPDATES' 'INBOX']\"}, {'from': 'Siemens Talent Acquisition <talentacquisition.hr@siemens.com>', 'date': '2025-02-28T03:45:09+00:00', 'labels': \"['IMPORTANT' 'CATEGORY_UPDATES' 'INBOX']\"}, {'from': 'noreply@mail.amazon.jobs', 'date': '2025-02-28T03:16:53+00:00', 'labels': \"['IMPORTANT' 'CATEGORY_UPDATES' 'INBOX']\"}, {'from': 'noreply@mail.amazon.jobs', 'date': '2025-02-28T03:16:05+00:00', 'labels': \"['IMPORTANT' 'CATEGORY_UPDATES' 'INBOX']\"}, {'from': 'Pradnyesh Choudhari <pc612001@gmail.com>', 'date': '2025-02-27T23:06:51+00:00', 'labels': \"['STARRED' 'SENT' 'INBOX']\"}, {'from': '\"AI, Machine Learning and Computer Vision Meetup Network\" <info@meetup.com>', 'date': '2025-02-27T23:05:43+00:00', 'labels': \"['IMPORTANT' 'CATEGORY_SOCIAL' 'INBOX']\"}, {'from': '\"Ben Batorsky (Meetup)\" <Boston-Cambridge-Python-Meetup-announce@email.meetup.com>', 'date': '2025-02-27T22:28:11+00:00', 'labels': \"['IMPORTANT' 'CATEGORY_UPDATES' 'INBOX']\"}, {'from': 'Codeforces@codeforces.com', 'date': '2025-02-27T20:54:50+00:00', 'labels': \"['IMPORTANT' 'CATEGORY_UPDATES' 'INBOX']\"}, {'from': 'LeetCode <no-reply@leetcode.com>', 'date': '2025-02-27T21:15:55+00:00', 'labels': \"['IMPORTANT' 'CATEGORY_UPDATES' 'INBOX']\"}, {'from': 'HDFC Bank InstaAlerts <alerts@hdfcbank.net>', 'date': '2025-02-27T20:26:53+00:00', 'labels': \"['IMPORTANT' 'CATEGORY_UPDATES' 'INBOX']\"}, {'from': 'HDFC Bank InstaAlerts <alerts@hdfcbank.net>', 'date': '2025-02-27T20:26:53+00:00', 'labels': \"['IMPORTANT' 'CATEGORY_UPDATES' 'INBOX']\"}, {'from': 'Oracle Cloud <noreply@verify.signup.us-ashburn-1.oci.oraclecloud.com>', 'date': '2025-02-27T20:24:36+00:00', 'labels': \"['IMPORTANT' 'STARRED' 'CATEGORY_UPDATES' 'INBOX']\"}, {'from': 'Xfinity <online.communications@alerts.comcast.net>', 'date': '2025-02-27T19:35:26+00:00', 'labels': \"['IMPORTANT' 'CATEGORY_UPDATES' 'INBOX']\"}, {'from': 'Meetup <info@meetup.com>', 'date': '2025-02-27T15:59:45+00:00', 'labels': \"['UNREAD' 'IMPORTANT' 'CATEGORY_SOCIAL' 'INBOX']\"}, {'from': 'Meetup <info@meetup.com>', 'date': '2025-02-27T15:01:19+00:00', 'labels': \"['UNREAD' 'CATEGORY_SOCIAL' 'INBOX']\"}, {'from': 'Meetup <info@meetup.com>', 'date': '2025-02-27T15:00:21+00:00', 'labels': \"['UNREAD' 'IMPORTANT' 'CATEGORY_SOCIAL' 'INBOX']\"}, {'from': 'Meetup <info@meetup.com>', 'date': '2025-02-27T14:48:18+00:00', 'labels': \"['UNREAD' 'CATEGORY_SOCIAL' 'INBOX']\"}, {'from': 'Meetup <info@meetup.com>', 'date': '2025-02-27T14:40:46+00:00', 'labels': \"['UNREAD' 'IMPORTANT' 'CATEGORY_SOCIAL' 'INBOX']\"}, {'from': 'Meetup <info@meetup.com>', 'date': '2025-02-27T14:25:09+00:00', 'labels': \"['UNREAD' 'IMPORTANT' 'CATEGORY_SOCIAL' 'INBOX']\"}, {'from': 'LinkedIn <jobs-listings@linkedin.com>', 'date': '2025-02-27T13:32:10+00:00', 'labels': \"['UNREAD' 'IMPORTANT' 'CATEGORY_SOCIAL' 'INBOX']\"}, {'from': 'Meetup <info@meetup.com>', 'date': '2025-02-27T13:15:44+00:00', 'labels': \"['UNREAD' 'CATEGORY_SOCIAL' 'INBOX']\"}, {'from': '\"Coached (by Resume Worded)\" <team@cs.resumeworded.com>', 'date': '2025-02-27T13:08:07+00:00', 'labels': \"['IMPORTANT' 'CATEGORY_UPDATES' 'INBOX']\"}, {'from': 'Kaggle <noreply@kaggle.com>', 'date': '2025-02-27T12:21:17+00:00', 'labels': \"['IMPORTANT' 'CATEGORY_UPDATES' 'INBOX']\"}, {'from': 'Meetup <info@meetup.com>', 'date': '2025-02-27T12:29:06+00:00', 'labels': \"['UNREAD' 'IMPORTANT' 'CATEGORY_SOCIAL' 'INBOX']\"}, {'from': 'World Economic Forum Strategic Intelligence <intelligence@email.weforum.org>', 'date': '2025-02-27T12:01:53+00:00', 'labels': \"['IMPORTANT' 'CATEGORY_UPDATES' 'INBOX']\"}, {'from': 'Glassdoor Jobs <noreply@glassdoor.com>', 'date': '2025-02-27T10:15:16+00:00', 'labels': \"['IMPORTANT' 'CATEGORY_UPDATES' 'INBOX']\"}, {'from': '\"ICC Men\\'s Champions Trophy 2025\" <info@icc-cricket-news.com>', 'date': '2025-02-27T08:04:45+00:00', 'labels': \"['IMPORTANT' 'CATEGORY_UPDATES' 'INBOX']\"}, {'from': 'LinkedIn Job Alerts <jobalerts-noreply@linkedin.com>', 'date': '2025-02-27T07:31:18+00:00', 'labels': \"['IMPORTANT' 'CATEGORY_UPDATES' 'INBOX']\"}, {'from': 'BGR Consultants <alerts@jobs.shine.com>', 'date': '2025-02-27T05:34:08+00:00', 'labels': \"['IMPORTANT' 'CATEGORY_UPDATES' 'INBOX']\"}, {'from': 'ET Markets Morning <newsletter@economictimesnews.com>', 'date': '2025-02-27T05:28:24+00:00', 'labels': \"['IMPORTANT' 'CATEGORY_UPDATES' 'INBOX']\"}, {'from': 'IBM Community <info@meetup.com>', 'date': '2025-02-27T05:23:14+00:00', 'labels': \"['IMPORTANT' 'STARRED' 'CATEGORY_SOCIAL' 'INBOX']\"}, {'from': 'Business Standard <bsemailservices@business-standard.net.in>', 'date': '2025-02-27T05:01:50+00:00', 'labels': \"['CATEGORY_UPDATES' 'INBOX']\"}, {'from': 'Jobright <noreply@jobright.ai>', 'date': '2025-02-27T02:59:27+00:00', 'labels': \"['IMPORTANT' 'CATEGORY_UPDATES' 'INBOX']\"}, {'from': 'LinkedIn <jobs-noreply@linkedin.com>', 'date': '2025-02-27T02:54:06+00:00', 'labels': \"['IMPORTANT' 'CATEGORY_UPDATES' 'INBOX']\"}, {'from': 'Skyworks Recruitment <careers@skyworksinc.com>', 'date': '2025-02-27T02:39:55+00:00', 'labels': \"['IMPORTANT' 'CATEGORY_UPDATES' 'INBOX']\"}, {'from': 'The Economic Times <newsletter@economictimesnews.com>', 'date': '2025-02-27T02:24:19+00:00', 'labels': \"['IMPORTANT' 'CATEGORY_UPDATES' 'INBOX']\"}, {'from': 'Meetup <info@meetup.com>', 'date': '2025-02-27T02:00:48+00:00', 'labels': \"['UNREAD' 'IMPORTANT' 'CATEGORY_SOCIAL' 'INBOX']\"}, {'from': 'LinkedIn <jobs-noreply@linkedin.com>', 'date': '2025-02-27T01:54:22+00:00', 'labels': \"['IMPORTANT' 'CATEGORY_UPDATES' 'INBOX']\"}, {'from': '\"Toshiba America Electronic Components, Inc\" <noreply@applytojob.com>', 'date': '2025-02-27T01:53:06+00:00', 'labels': \"['IMPORTANT' 'CATEGORY_UPDATES' 'INBOX']\"}, {'from': 'Meetup <info@meetup.com>', 'date': '2025-02-27T01:36:19+00:00', 'labels': \"['UNREAD' 'IMPORTANT' 'CATEGORY_SOCIAL' 'INBOX']\"}, {'from': 'Business Standard <bsemailservices@e-bs.co.in>', 'date': '2025-02-27T01:36:06+00:00', 'labels': \"['IMPORTANT' 'CATEGORY_UPDATES' 'INBOX']\"}, {'from': 'donotreply@bcbsma.com', 'date': '2025-02-27T01:12:32+00:00', 'labels': \"['IMPORTANT' 'CATEGORY_PERSONAL' 'INBOX']\"}, {'from': 'Eventbrite <marketing@plans.eventbrite.com>', 'date': '2025-02-26T22:40:05+00:00', 'labels': \"['IMPORTANT' 'CATEGORY_UPDATES' 'INBOX']\"}, {'from': 'Eventbrite <noreply@reminder.eventbrite.com>', 'date': '2025-02-26T22:15:57+00:00', 'labels': \"['IMPORTANT' 'CATEGORY_UPDATES' 'INBOX']\"}, {'from': 'Kaggle <kaggle-noreply@google.com>', 'date': '2025-02-26T22:06:12+00:00', 'labels': \"['IMPORTANT' 'CATEGORY_UPDATES' 'INBOX']\"}, {'from': 'LinkedIn <jobs-noreply@linkedin.com>', 'date': '2025-02-26T21:45:49+00:00', 'labels': \"['IMPORTANT' 'CATEGORY_UPDATES' 'INBOX']\"}, {'from': 'Jobright <noreply@jobright.ai>', 'date': '2025-02-26T20:44:11+00:00', 'labels': \"['IMPORTANT' 'CATEGORY_UPDATES' 'INBOX']\"}, {'from': 'ASU Admissions <admissions@reply.asu.edu>', 'date': '2025-02-26T20:32:03+00:00', 'labels': \"['IMPORTANT' 'CATEGORY_UPDATES' 'INBOX']\"}, {'from': '\"Data, Cloud and AI in Boston\" <info@email.meetup.com>', 'date': '2025-02-26T19:49:18+00:00', 'labels': \"['IMPORTANT' 'CATEGORY_UPDATES' 'INBOX']\"}, {'from': 'Coinbase <no-reply@mail.coinbase.com>', 'date': '2025-02-26T19:29:22+00:00', 'labels': \"['IMPORTANT' 'CATEGORY_UPDATES' 'INBOX']\"}, {'from': 'Meetup <info@email.meetup.com>', 'date': '2025-02-26T19:10:41+00:00', 'labels': \"['IMPORTANT' 'CATEGORY_UPDATES' 'INBOX']\"}, {'from': '\"myworkday.com\" <statestreet@myworkday.com>', 'date': '2025-02-26T19:07:14+00:00', 'labels': \"['IMPORTANT' 'CATEGORY_UPDATES' 'INBOX']\"}, {'from': 'Interview Query <team@interviewquery.com>', 'date': '2025-02-26T18:31:51+00:00', 'labels': \"['IMPORTANT' 'CATEGORY_UPDATES' 'INBOX']\"}, {'from': 'LinkedIn Job Alerts <jobalerts-noreply@linkedin.com>', 'date': '2025-02-26T17:32:56+00:00', 'labels': \"['IMPORTANT' 'CATEGORY_UPDATES' 'INBOX']\"}, {'from': 'Chase <no_reply@mcmap.chase.com>', 'date': '2025-02-26T17:21:57+00:00', 'labels': \"['IMPORTANT' 'CATEGORY_UPDATES' 'INBOX']\"}, {'from': 'Kaggle <noreply@kaggle.com>', 'date': '2025-02-26T16:40:30+00:00', 'labels': \"['IMPORTANT' 'CATEGORY_UPDATES' 'INBOX']\"}, {'from': 'Siemens Talent Acquisition <talentacquisition.hr@siemens.com>', 'date': '2025-02-26T15:51:13+00:00', 'labels': \"['IMPORTANT' 'CATEGORY_UPDATES' 'INBOX']\"}, {'from': 'Sandisk <notification@smartrecruiters.com>', 'date': '2025-02-26T15:46:06+00:00', 'labels': \"['IMPORTANT' 'CATEGORY_UPDATES' 'INBOX']\"}, {'from': 'Indeed <alert@indeed.com>', 'date': '2025-02-26T12:51:19+00:00', 'labels': \"['IMPORTANT' 'CATEGORY_UPDATES' 'INBOX']\"}, {'from': 'ansysincp-jobnotification@noreply.jobs2web.com', 'date': '2025-02-26T11:55:49+00:00', 'labels': \"['IMPORTANT' 'CATEGORY_UPDATES' 'INBOX']\"}, {'from': 'disney@myworkday.com', 'date': '2025-02-26T08:11:08+00:00', 'labels': \"['IMPORTANT' 'CATEGORY_UPDATES' 'INBOX']\"}, {'from': 'LinkedIn Job Alerts <jobalerts-noreply@linkedin.com>', 'date': '2025-02-26T07:31:05+00:00', 'labels': \"['IMPORTANT' 'CATEGORY_UPDATES' 'INBOX']\"}, {'from': 'disney@myworkday.com', 'date': '2025-02-26T05:36:12+00:00', 'labels': \"['IMPORTANT' 'CATEGORY_UPDATES' 'INBOX']\"}, {'from': 'Siemens Talent Acquisition <talentacquisition.hr@siemens.com>', 'date': '2025-02-26T05:29:20+00:00', 'labels': \"['IMPORTANT' 'CATEGORY_UPDATES' 'INBOX']\"}, {'from': 'Synaptix Jobs Consultancy <vacancy@openings.shine.com>', 'date': '2025-02-26T04:56:34+00:00', 'labels': \"['IMPORTANT' 'CATEGORY_UPDATES' 'INBOX']\"}, {'from': 'Instacart <orders@instacart.com>', 'date': '2025-02-26T04:25:47+00:00', 'labels': \"['IMPORTANT' 'CATEGORY_UPDATES' 'INBOX']\"}, {'from': 'fmr@myworkday.com', 'date': '2025-02-26T04:00:03+00:00', 'labels': \"['IMPORTANT' 'CATEGORY_UPDATES' 'INBOX']\"}, {'from': 'Expedia Workday Notifications <expedia@myworkday.com>', 'date': '2025-02-26T01:43:05+00:00', 'labels': \"['IMPORTANT' 'CATEGORY_UPDATES' 'INBOX']\"}, {'from': 'Business Standard E-paper <bsemailservices@business-standard.net.in>', 'date': '2025-02-26T00:30:31+00:00', 'labels': \"['CATEGORY_UPDATES' 'INBOX']\"}, {'from': 'LinkedIn <jobs-noreply@linkedin.com>', 'date': '2025-02-25T23:31:26+00:00', 'labels': \"['IMPORTANT' 'CATEGORY_UPDATES' 'INBOX']\"}, {'from': 'fmr@myworkday.com', 'date': '2025-02-25T21:48:20+00:00', 'labels': \"['IMPORTANT' 'CATEGORY_UPDATES' 'INBOX']\"}, {'from': 'fmr@myworkday.com', 'date': '2025-02-25T21:44:42+00:00', 'labels': \"['IMPORTANT' 'CATEGORY_UPDATES' 'INBOX']\"}, {'from': 'fmr@myworkday.com', 'date': '2025-02-25T21:43:00+00:00', 'labels': \"['IMPORTANT' 'CATEGORY_UPDATES' 'INBOX']\"}, {'from': 'fmr@myworkday.com', 'date': '2025-02-25T21:40:45+00:00', 'labels': \"['IMPORTANT' 'CATEGORY_UPDATES' 'INBOX']\"}, {'from': 'LinkedIn <jobs-listings@linkedin.com>', 'date': '2025-02-25T21:31:10+00:00', 'labels': \"['UNREAD' 'IMPORTANT' 'CATEGORY_SOCIAL' 'INBOX']\"}, {'from': '\"Yang (Meetup)\" <Boston-IT-and-Tech-Meetup-announce@email.meetup.com>', 'date': '2025-02-25T20:42:23+00:00', 'labels': \"['STARRED' 'CATEGORY_UPDATES' 'INBOX']\"}, {'from': '\"AI, Machine Learning and Computer Vision Meetup Network\" <info@meetup.com>', 'date': '2025-02-25T19:49:03+00:00', 'labels': \"['IMPORTANT' 'CATEGORY_SOCIAL' 'INBOX']\"}, {'from': 'Meetup <info@email.meetup.com>', 'date': '2025-02-25T19:18:59+00:00', 'labels': \"['IMPORTANT' 'CATEGORY_UPDATES' 'INBOX']\"}, {'from': 'Brilliant <notifications@account.brilliant.org>', 'date': '2025-02-25T19:06:09+00:00', 'labels': \"['IMPORTANT' 'CATEGORY_UPDATES' 'INBOX']\"}, {'from': 'PyData Boston - Cambridge <info@email.meetup.com>', 'date': '2025-02-25T18:56:20+00:00', 'labels': \"['IMPORTANT' 'CATEGORY_UPDATES' 'INBOX']\"}, {'from': 'Boston Kubernetes Meetup <info@email.meetup.com>', 'date': '2025-02-25T17:49:34+00:00', 'labels': \"['IMPORTANT' 'CATEGORY_UPDATES' 'INBOX']\"}, {'from': 'LinkedIn Job Alerts <jobalerts-noreply@linkedin.com>', 'date': '2025-02-25T17:31:16+00:00', 'labels': \"['IMPORTANT' 'CATEGORY_UPDATES' 'INBOX']\"}, {'from': 'Uber Eats <uber@uber.com>', 'date': '2025-02-25T17:25:11+00:00', 'labels': \"['IMPORTANT' 'CATEGORY_UPDATES' 'INBOX']\"}, {'from': 'Zooniverse Team <no-reply@zooniverse.org>', 'date': '2025-02-25T16:18:20+00:00', 'labels': \"['IMPORTANT' 'CATEGORY_UPDATES' 'INBOX']\"}, {'from': 'no-reply@us.greenhouse-mail.io', 'date': '2025-02-25T16:17:18+00:00', 'labels': \"['IMPORTANT' 'CATEGORY_UPDATES' 'INBOX']\"}, {'from': 'LinkedIn <jobs-noreply@linkedin.com>', 'date': '2025-02-25T16:14:52+00:00', 'labels': \"['IMPORTANT' 'CATEGORY_UPDATES' 'INBOX']\"}, {'from': '\"service@paypal.com\" <service@paypal.com>', 'date': '2025-02-25T15:56:36+00:00', 'labels': \"['IMPORTANT' 'CATEGORY_UPDATES' 'INBOX']\"}, {'from': '\"service@paypal.com\" <service@paypal.com>', 'date': '2025-02-25T15:54:52+00:00', 'labels': \"['IMPORTANT' 'CATEGORY_UPDATES' 'INBOX']\"}, {'from': '\"service@paypal.com\" <service@paypal.com>', 'date': '2025-02-25T15:52:30+00:00', 'labels': \"['IMPORTANT' 'CATEGORY_UPDATES' 'INBOX']\"}, {'from': 'LinkedIn Job Alerts <jobalerts-noreply@linkedin.com>', 'date': '2025-02-25T09:31:03+00:00', 'labels': \"['IMPORTANT' 'CATEGORY_UPDATES' 'INBOX']\"}, {'from': 'LinkedIn Job Alerts <jobalerts-noreply@linkedin.com>', 'date': '2025-02-25T07:31:03+00:00', 'labels': \"['IMPORTANT' 'CATEGORY_UPDATES' 'INBOX']\"}, {'from': 'nse_alerts <nse_alerts@nse.co.in>', 'date': '2025-02-25T06:30:48+00:00', 'labels': \"['IMPORTANT' 'CATEGORY_UPDATES' 'INBOX']\"}, {'from': 'Business Standard <bsemailservices@business-standard.net.in>', 'date': '2025-02-25T06:21:51+00:00', 'labels': \"['CATEGORY_UPDATES' 'INBOX']\"}, {'from': 'Chase Credit Journey <no.reply.alerts@chase.com>', 'date': '2025-02-25T05:53:20+00:00', 'labels': \"['IMPORTANT' 'CATEGORY_UPDATES' 'INBOX']\"}, {'from': 'The Economic Times <newsletter@economictimesnews.com>', 'date': '2025-02-25T02:54:31+00:00', 'labels': \"['IMPORTANT' 'CATEGORY_UPDATES' 'INBOX']\"}, {'from': 'Jobright <noreply@jobright.ai>', 'date': '2025-02-25T02:53:22+00:00', 'labels': \"['IMPORTANT' 'CATEGORY_UPDATES' 'INBOX']\"}, {'from': 'Uber Receipts <noreply@uber.com>', 'date': '2025-02-25T01:48:47+00:00', 'labels': \"['IMPORTANT' 'CATEGORY_PERSONAL' 'INBOX']\"}, {'from': 'Business Standard <bsemailservices@e-bs.co.in>', 'date': '2025-02-25T01:36:05+00:00', 'labels': \"['IMPORTANT' 'CATEGORY_UPDATES' 'INBOX']\"}, {'from': 'Uber Receipts <noreply@uber.com>', 'date': '2025-02-25T00:48:38+00:00', 'labels': \"['IMPORTANT' 'CATEGORY_UPDATES' 'INBOX']\"}, {'from': 'Business Standard E-paper <bsemailservices@business-standard.net.in>', 'date': '2025-02-25T00:30:30+00:00', 'labels': \"['CATEGORY_UPDATES' 'INBOX']\"}, {'from': 'GDG Event Platform <noreply@gdg.community.dev>', 'date': '2025-02-25T00:00:32+00:00', 'labels': \"['IMPORTANT' 'CATEGORY_UPDATES' 'INBOX']\"}, {'from': 'ODSC Data Science Boston <info@email.meetup.com>', 'date': '2025-02-24T22:59:52+00:00', 'labels': \"['IMPORTANT' 'CATEGORY_UPDATES' 'INBOX']\"}, {'from': 'ZipRecruiter <alerts@ziprecruiter.com>', 'date': '2025-02-24T22:10:22+00:00', 'labels': \"['IMPORTANT' 'CATEGORY_UPDATES' 'INBOX']\"}, {'from': 'no-reply@lightmatter.co', 'date': '2025-02-24T20:05:17+00:00', 'labels': \"['IMPORTANT' 'CATEGORY_UPDATES' 'INBOX']\"}, {'from': 'LinkedIn <jobs-noreply@linkedin.com>', 'date': '2025-02-24T20:04:30+00:00', 'labels': \"['IMPORTANT' 'CATEGORY_UPDATES' 'INBOX']\"}, {'from': 'LinkedIn <jobs-noreply@linkedin.com>', 'date': '2025-02-24T19:56:36+00:00', 'labels': \"['IMPORTANT' 'CATEGORY_UPDATES' 'INBOX']\"}, {'from': 'LinkedIn <jobs-noreply@linkedin.com>', 'date': '2025-02-24T19:49:43+00:00', 'labels': \"['IMPORTANT' 'CATEGORY_UPDATES' 'INBOX']\"}, {'from': 'LinkedIn Job Alerts <jobalerts-noreply@linkedin.com>', 'date': '2025-02-24T19:31:11+00:00', 'labels': \"['IMPORTANT' 'CATEGORY_UPDATES' 'INBOX']\"}, {'from': 'Pradnyesh Choudhari <notifications@github.com>', 'date': '2025-02-24T17:33:49+00:00', 'labels': \"['IMPORTANT' 'CATEGORY_UPDATES' 'INBOX']\"}, {'from': 'LinkedIn Job Alerts <jobalerts-noreply@linkedin.com>', 'date': '2025-02-24T17:31:10+00:00', 'labels': \"['IMPORTANT' 'CATEGORY_UPDATES' 'INBOX']\"}, {'from': 'Pradnyesh Choudhari <notifications@github.com>', 'date': '2025-02-24T17:21:51+00:00', 'labels': \"['IMPORTANT' 'CATEGORY_UPDATES' 'INBOX']\"}, {'from': 'Moneycontrol <alerts@mailer.moneycontrol.com>', 'date': '2025-02-24T15:03:35+00:00', 'labels': \"['IMPORTANT' 'CATEGORY_UPDATES' 'INBOX']\"}, {'from': 'Interview Query <team@interviewquery.com>', 'date': '2025-02-24T15:43:51+00:00', 'labels': \"['IMPORTANT' 'CATEGORY_UPDATES' 'INBOX']\"}, {'from': 'HDFC securities <no-reply@invest.hdfcsec.in>', 'date': '2025-02-24T02:47:36+00:00', 'labels': \"['IMPORTANT' 'CATEGORY_UPDATES' 'INBOX']\"}, {'from': 'LinkedIn Job Alerts <jobalerts-noreply@linkedin.com>', 'date': '2025-02-24T15:31:23+00:00', 'labels': \"['IMPORTANT' 'CATEGORY_UPDATES' 'INBOX']\"}, {'from': 'Jobright <noreply@jobright.ai>', 'date': '2025-02-24T15:00:08+00:00', 'labels': \"['IMPORTANT' 'CATEGORY_UPDATES' 'INBOX']\"}, {'from': '\"Aeon+Psyche Daily\" <support@aeon.co>', 'date': '2025-02-24T12:30:35+00:00', 'labels': \"['IMPORTANT' 'CATEGORY_UPDATES' 'INBOX']\"}, {'from': 'Glassdoor Jobs <noreply@glassdoor.com>', 'date': '2025-02-24T11:12:08+00:00', 'labels': \"['IMPORTANT' 'CATEGORY_UPDATES' 'INBOX']\"}, {'from': '\"Alexey Grigorev from DataTalks.Club\" <alexey@datatalks.club>', 'date': '2025-02-24T10:19:23+00:00', 'labels': \"['IMPORTANT' 'CATEGORY_UPDATES' 'INBOX']\"}, {'from': 'Uber <uber@uber.com>', 'date': '2025-02-24T08:31:59+00:00', 'labels': \"['IMPORTANT' 'CATEGORY_UPDATES' 'INBOX']\"}, {'from': 'LinkedIn Job Alerts <jobalerts-noreply@linkedin.com>', 'date': '2025-02-24T07:31:07+00:00', 'labels': \"['IMPORTANT' 'CATEGORY_UPDATES' 'INBOX']\"}, {'from': 'Business Standard <bsemailservices@business-standard.net.in>', 'date': '2025-02-24T06:22:35+00:00', 'labels': \"['CATEGORY_UPDATES' 'INBOX']\"}, {'from': 'ET Markets Morning <newsletter@economictimesnews.com>', 'date': '2025-02-24T06:14:20+00:00', 'labels': \"['IMPORTANT' 'CATEGORY_UPDATES' 'INBOX']\"}, {'from': 'HDFC Bank Credit Cards <Emailstatements.cards@hdfcbank.net>', 'date': '2025-02-24T06:12:15+00:00', 'labels': \"['IMPORTANT' 'CATEGORY_UPDATES' 'INBOX']\"}, {'from': 'SandBox HR Consultants <alerts@jobs.shine.com>', 'date': '2025-02-24T06:07:38+00:00', 'labels': \"['IMPORTANT' 'CATEGORY_UPDATES' 'INBOX']\"}, {'from': 'disney@myworkday.com', 'date': '2025-02-24T00:13:30+00:00', 'labels': \"['IMPORTANT' 'CATEGORY_UPDATES' 'INBOX']\"}, {'from': 'ZipRecruiter <alerts@ziprecruiter.com>', 'date': '2025-02-23T23:49:45+00:00', 'labels': \"['IMPORTANT' 'CATEGORY_UPDATES' 'INBOX']\"}, {'from': 'GDG Event Platform <noreply@gdg.community.dev>', 'date': '2025-02-23T22:30:37+00:00', 'labels': \"['IMPORTANT' 'CATEGORY_UPDATES' 'INBOX']\"}, {'from': '\"Ben Batorsky (Meetup)\" <info@email.meetup.com>', 'date': '2025-02-23T16:37:51+00:00', 'labels': \"['IMPORTANT' 'CATEGORY_UPDATES' 'INBOX']\"}, {'from': 'noreply@mail.amazon.jobs', 'date': '2025-02-23T14:40:19+00:00', 'labels': \"['IMPORTANT' 'CATEGORY_UPDATES' 'INBOX']\"}, {'from': 'AcquireTalent HR Consultancy <alerts@jobsalert.shine.com>', 'date': '2025-02-23T11:47:19+00:00', 'labels': \"['IMPORTANT' 'CATEGORY_UPDATES' 'INBOX']\"}, {'from': 'Star Health <staradmin@starinsurance.in>', 'date': '2025-02-23T06:20:41+00:00', 'labels': \"['IMPORTANT' 'CATEGORY_UPDATES' 'INBOX']\"}, {'from': '\"Star Health & Allied Insurance\" <staradmin@starinsurance.in>', 'date': '2025-02-23T06:00:49+00:00', 'labels': \"['IMPORTANT' 'CATEGORY_UPDATES' 'INBOX']\"}, {'from': 'LinkedIn Job Alerts <jobalerts-noreply@linkedin.com>', 'date': '2025-02-23T07:31:04+00:00', 'labels': \"['IMPORTANT' 'CATEGORY_UPDATES' 'INBOX']\"}, {'from': 'Tarun Etikala <notifications@github.com>', 'date': '2025-02-23T05:56:44+00:00', 'labels': \"['IMPORTANT' 'CATEGORY_UPDATES' 'INBOX']\"}, {'from': 'The Economic Times <newsletter@economictimesnews.com>', 'date': '2025-02-23T03:47:10+00:00', 'labels': \"['IMPORTANT' 'CATEGORY_UPDATES' 'INBOX']\"}, {'from': 'ZipRecruiter <alerts@ziprecruiter.com>', 'date': '2025-02-22T22:32:54+00:00', 'labels': \"['IMPORTANT' 'CATEGORY_UPDATES' 'INBOX']\"}, {'from': 'Built In <support@builtin.com>', 'date': '2025-02-22T21:16:35+00:00', 'labels': \"['IMPORTANT' 'CATEGORY_UPDATES' 'INBOX']\"}, {'from': 'LinkedIn Job Alerts <jobalerts-noreply@linkedin.com>', 'date': '2025-02-22T15:32:05+00:00', 'labels': \"['IMPORTANT' 'CATEGORY_UPDATES' 'INBOX']\"}, {'from': 'Interview Query <team@interviewquery.com>', 'date': '2025-02-22T15:25:29+00:00', 'labels': \"['IMPORTANT' 'CATEGORY_UPDATES' 'INBOX']\"}, {'from': 'Uber <uber@uber.com>', 'date': '2025-02-22T15:07:12+00:00', 'labels': \"['IMPORTANT' 'CATEGORY_UPDATES' 'INBOX']\"}, {'from': 'Indeed <alert@indeed.com>', 'date': '2025-02-22T14:48:47+00:00', 'labels': \"['IMPORTANT' 'CATEGORY_UPDATES' 'INBOX']\"}, {'from': '\"Aeon+Psyche Daily\" <support@aeon.co>', 'date': '2025-02-22T12:00:32+00:00', 'labels': \"['IMPORTANT' 'CATEGORY_UPDATES' 'INBOX']\"}, {'from': 'Uber Receipts <noreply@uber.com>', 'date': '2025-02-22T11:53:50+00:00', 'labels': \"['IMPORTANT' 'CATEGORY_UPDATES' 'INBOX']\"}, {'from': '\"Star Health & Allied Insurance\" <staradmin@starinsurance.in>', 'date': '2025-02-22T10:45:22+00:00', 'labels': \"['IMPORTANT' 'CATEGORY_UPDATES' 'INBOX']\"}, {'from': 'notification@jio.com', 'date': '2025-02-22T11:34:32+00:00', 'labels': \"['IMPORTANT' 'CATEGORY_UPDATES' 'INBOX']\"}, {'from': 'Glassdoor Jobs <noreply@glassdoor.com>', 'date': '2025-02-22T11:00:57+00:00', 'labels': \"['IMPORTANT' 'CATEGORY_UPDATES' 'INBOX']\"}, {'from': 'Resume Edge by Shine <alerts@jobs.shine.com>', 'date': '2025-02-22T10:14:08+00:00', 'labels': \"['IMPORTANT' 'CATEGORY_UPDATES' 'INBOX']\"}, {'from': 'Rokt Talent Team <DO-NOT-REPLY@criteriacorp.com>', 'date': '2025-02-22T09:38:30+00:00', 'labels': \"['IMPORTANT' 'STARRED' 'CATEGORY_UPDATES' 'INBOX']\"}, {'from': 'LinkedIn Job Alerts <jobalerts-noreply@linkedin.com>', 'date': '2025-02-22T09:31:02+00:00', 'labels': \"['IMPORTANT' 'CATEGORY_UPDATES' 'INBOX']\"}, {'from': 'LinkedIn <jobs-noreply@linkedin.com>', 'date': '2025-02-22T03:37:43+00:00', 'labels': \"['IMPORTANT' 'CATEGORY_UPDATES' 'INBOX']\"}, {'from': 'LinkedIn Job Alerts <jobalerts-noreply@linkedin.com>', 'date': '2025-02-22T07:32:11+00:00', 'labels': \"['IMPORTANT' 'CATEGORY_UPDATES' 'INBOX']\"}]\n"
     ]
    }
   ],
   "source": [
    "df['labels'] = df['labels'].astype(str)\n",
    "# using apply function to create a new column\n",
    "df['metadata'] = df.apply(lambda row: {\"from\":row.from_email,  \"date\":row.date, \"labels\":row.labels}, axis = 1)\n",
    "\n",
    "# Print the DataFrame after addition\n",
    "# of new column\n",
    "print(df.metadata.to_list())"
   ]
  },
  {
   "cell_type": "code",
   "execution_count": null,
   "metadata": {},
   "outputs": [],
   "source": [
    "def upload_to_chroma(user_id, df, client):\n",
    "    \"\"\"\n",
    "    Upload data to Chroma\n",
    "    \"\"\"\n",
    "    try:\n",
    "        collection = client.get_or_create_collection(name=user_id)\n",
    "        \n",
    "        # Upload data to Chroma\n",
    "        collection.upsert(\n",
    "            documents=df.subject.to_list(),\n",
    "            metadatas=df.metadata.to_list(),\n",
    "            ids=df.message_id.to_list()\n",
    "        )\n",
    "    except Exception as e:\n",
    "        print(f\"Error uploading data to Chroma: {e}\")"
   ]
  },
  {
   "cell_type": "code",
   "execution_count": 36,
   "metadata": {},
   "outputs": [],
   "source": [
    "upload_to_chroma(\"test_id\", df, client)"
   ]
  },
  {
   "cell_type": "code",
   "execution_count": null,
   "metadata": {},
   "outputs": [],
   "source": []
  },
  {
   "cell_type": "code",
   "execution_count": null,
   "metadata": {},
   "outputs": [],
   "source": []
  }
 ],
 "metadata": {
  "kernelspec": {
   "display_name": "Python 3",
   "language": "python",
   "name": "python3"
  },
  "language_info": {
   "codemirror_mode": {
    "name": "ipython",
    "version": 3
   },
   "file_extension": ".py",
   "mimetype": "text/x-python",
   "name": "python",
   "nbconvert_exporter": "python",
   "pygments_lexer": "ipython3",
   "version": "3.13.0"
  }
 },
 "nbformat": 4,
 "nbformat_minor": 2
}
